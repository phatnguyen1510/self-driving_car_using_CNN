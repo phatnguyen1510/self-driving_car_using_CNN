{
 "cells": [
  {
   "cell_type": "code",
   "execution_count": null,
   "metadata": {
    "colab": {
     "base_uri": "https://localhost:8080/"
    },
    "id": "oMHqAXF-Sd6Q",
    "outputId": "cd180f16-77b7-4593-dc26-690164c4fbaf"
   },
   "outputs": [
    {
     "name": "stdout",
     "output_type": "stream",
     "text": [
      "Mounted at /content/gdrive\n"
     ]
    }
   ],
   "source": [
    "from google.colab import drive # Liên kết Drive với Colab\n",
    "drive.mount('/content/gdrive')"
   ]
  },
  {
   "cell_type": "code",
   "execution_count": null,
   "metadata": {
    "colab": {
     "base_uri": "https://localhost:8080/"
    },
    "id": "e1EzQ6oSmhZU",
    "outputId": "f9803068-f5ba-49ba-d3b7-ac8b18c2149f"
   },
   "outputs": [
    {
     "name": "stdout",
     "output_type": "stream",
     "text": [
      "Looking in indexes: https://pypi.org/simple, https://us-python.pkg.dev/colab-wheels/public/simple/\n",
      "Requirement already satisfied: h5py in /usr/local/lib/python3.10/dist-packages (3.8.0)\n",
      "Requirement already satisfied: numpy>=1.14.5 in /usr/local/lib/python3.10/dist-packages (from h5py) (1.22.4)\n"
     ]
    }
   ],
   "source": [
    "pip install h5py # Dowloand h5py để thuận tiện cho việc lưu model"
   ]
  },
  {
   "cell_type": "code",
   "execution_count": null,
   "metadata": {
    "colab": {
     "base_uri": "https://localhost:8080/"
    },
    "id": "RfvV646seqa_",
    "outputId": "b0a35b68-34a1-42bf-d1a3-e46ddcdde93c"
   },
   "outputs": [
    {
     "name": "stdout",
     "output_type": "stream",
     "text": [
      "Looking in indexes: https://pypi.org/simple, https://us-python.pkg.dev/colab-wheels/public/simple/\n",
      "Requirement already satisfied: opencv-python in /usr/local/lib/python3.10/dist-packages (4.7.0.72)\n",
      "Requirement already satisfied: numpy>=1.21.2 in /usr/local/lib/python3.10/dist-packages (from opencv-python) (1.22.4)\n"
     ]
    }
   ],
   "source": [
    "pip install opencv-python # Dowloand thư viện Opencv cho xử lý ảnh"
   ]
  },
  {
   "cell_type": "code",
   "execution_count": null,
   "metadata": {
    "id": "Ke-RHVMletL9"
   },
   "outputs": [],
   "source": [
    "# Khai báo các thư viện cần thiết\n",
    "import pandas as pd\n",
    "import numpy as np\n",
    "import cv2\n",
    "import time\n",
    "import tensorflow as tf\n",
    "from tensorflow.keras import datasets, layers, models\n",
    "from sklearn.model_selection import train_test_split\n",
    "import matplotlib.pyplot as plt\n",
    "import os\n",
    "from cv2 import cvtColor"
   ]
  },
  {
   "cell_type": "code",
   "execution_count": null,
   "metadata": {
    "id": "79RTJexCetTV"
   },
   "outputs": [],
   "source": [
    "# Khai báo các hàm cần sử dụng\n",
    "\n",
    "# Lật ảnh\n",
    "def horizontal_flip(image, steering_angle):\n",
    "    # Lật ảnh theo chiều ngang (Đối xứng trục y)\n",
    "    flipped_image = cv2.flip(image, 1)\n",
    "    \n",
    "    # Đảo ngược góc lái\n",
    "    steering_angle = -steering_angle\n",
    "    \n",
    "    return flipped_image, steering_angle\n",
    "\n",
    "# Giảm ngẫu nhiên độ sáng cho ảnh\n",
    "def brightness_reduction(image):\n",
    "    # Chuyển ảnh từ form màu RGB sang HSV để giảm độ snags\n",
    "    image = cv2.cvtColor(image, cv2.COLOR_RGB2HSV)\n",
    "    \n",
    "    # Chuyển đổi kiểu dữ liệu của pixel ảnh thành số thực cho tính toán dễ dàng \n",
    "    image = np.array(image, dtype = np.float64)\n",
    "    \n",
    "    # Điều chỉnh độ sáng bằng cách thay đổi thông số V của ảnh\n",
    "    random_brightness = 1 - np.random.uniform(0.2, 0.4)\n",
    "    image[:,:,2] = image[:,:,2] * random_brightness\n",
    "    \n",
    "    # Chuyển đổi lại kiểu dữ liệu cho pixel của ảnh uint8 \n",
    "    image = np.array(image, dtype = np.uint8)\n",
    "    \n",
    "    # Chuyển ảnh lại snag form màu RGB\n",
    "    image = cv2.cvtColor(image, cv2.COLOR_HSV2RGB)\n",
    "    \n",
    "    return image\n",
    "\n",
    "# Dịch chuyển ảnh ngẫu nhiên theo trục x và trục y\n",
    "def translation(image, steering_angle, x_trans_range = [-60, 60], y_trans_range = [-20, 20]):\n",
    "    # Lấy kích thước của ảnh\n",
    "    height, width = (image.shape[0], image.shape[1])\n",
    "    \n",
    "    # Xác đinh độ dịch chuyển của ảnh dọc theo trục x và dọc theo trục y\n",
    "    x_trans = np.random.randint(x_trans_range[0], x_trans_range[1]) \n",
    "    y_trans = np.random.randint(y_trans_range[0], y_trans_range[1])\n",
    "    \n",
    "    # Điều chỉnh lại góc lại theo trục x\n",
    "    steering_angle += x_trans * 0.004\n",
    "    \n",
    "    # Tạo ma trận dịch chuyển ảnh (chỉ dịch chuyển đơn thuần theo trục x và y)\n",
    "    trans_matrix = np.float32([[1, 0, x_trans], [0, 1, y_trans]])\n",
    "    \n",
    "    # Dịch chuyển ảnh sử dụng warpAffine\n",
    "    translated_image = cv2.warpAffine(image, trans_matrix, (width, height))\n",
    "    \n",
    "    return translated_image, steering_angle\n",
    "\n",
    "# Cắt phần vùng bầu trờ của ảnh\n",
    "def top_bottom_crop(image):\n",
    "    # Cắt ảnh theo chiều trục y trong khoảng pixel từ 40 - 125\n",
    "    cropped_image = image[40:135, :]\n",
    "    \n",
    "    return cropped_image\n",
    "\n",
    "# Kết hợp các phương pháp augmention xử lý ảnh\n",
    "def augment_image(df):\n",
    "    # Lấy một giá trị ngẫu nhiên trong khoản từ 0 3\n",
    "    camera_side = np.random.randint(3)\n",
    "\n",
    "    # Điều chỉnh lại góc tuỳ theo các loại ảnh từ các góc cam\n",
    "    if camera_side == 0:\n",
    "        image_path = df.iloc[0]['center_camera'].strip()\n",
    "        angle_calib = 0\n",
    "    elif camera_side == 1:\n",
    "        image_path = df.iloc[0]['left_camera'].strip()\n",
    "        angle_calib = 0.25\n",
    "    elif camera_side == 2:\n",
    "        image_path = df.iloc[0]['right_camera'].strip()\n",
    "        angle_calib = -0.25\n",
    "\n",
    "    steering_angle = df.iloc[0]['steering_angle'] + angle_calib\n",
    "\n",
    "    # Đọc ảnh dùng thư viện opencv\n",
    "    image = cv2.imread(image_path)\n",
    "\n",
    "    # Chuyển ảnh từ form BGR sang RGB\n",
    "    image = cv2.cvtColor(image, cv2.COLOR_BGR2RGB) \n",
    "\n",
    "    # Ngẫu nhiên augmention ảnh\n",
    "\n",
    "    if np.random.rand() < 0.5:\n",
    "        # Dịch chuyển ảnh\n",
    "        image, steering_angle = translation(image, steering_angle)\n",
    "\n",
    "    if np.random.rand() < 0.5:\n",
    "        # Giảm độ sáng của ảnh\n",
    "        image = brightness_reduction(image)\n",
    "\n",
    "    if np.random.rand() < 0.5:\n",
    "        # Lật ảnh\n",
    "        image, steering_angle = horizontal_flip(image, steering_angle)\n",
    "\n",
    "    return image, steering_angle\n",
    "\n",
    "# Tiền xử lý ảnh\n",
    "def image_preprocessing(image):\n",
    "    # Cắt ảnh\n",
    "    image = top_bottom_crop(image)\n",
    "\n",
    "    # Chuyển ảnh từ form RGB sang YUV cho dễ dàng xử lý\n",
    "    image = cv2.cvtColor(image, cv2.COLOR_RGB2YUV)\n",
    "\n",
    "    # Resize ảnh\n",
    "    image = cv2.resize(image, (200, 66), interpolation = cv2.INTER_AREA)\n",
    "\n",
    "    # Scale ảnh\n",
    "    image = image / 255\n",
    "\n",
    "    return image\n",
    "\n",
    "def batch_generator(df, batch_size, training_flag):\n",
    "    while True:\n",
    "        # Tạo 1 list lưu ảnh và góc sau khi xử lý từ batch\n",
    "        images_bacth = []\n",
    "        steering_angles_batch = []\n",
    "\n",
    "        for i in range(batch_size):\n",
    "            # Chọn một hàng ngẫu nhiên với địa chỉ\n",
    "            index = np.random.randint(0, len(df) - 1)\n",
    "\n",
    "            # Augmentation lại ảnh cho dữ liệu training\n",
    "            if training_flag:\n",
    "                # Augmentation lại ảnh\n",
    "                image, steering_angle = augment_image(df.iloc[[index]])\n",
    "            else:\n",
    "                camera_side = np.random.randint(3)\n",
    "\n",
    "                # Điều chỉnh lại góc tuỳ theo các loại ảnh từ các góc cam\n",
    "                if camera_side == 0:\n",
    "                    image_path = df.iloc[0]['center_camera'].strip()\n",
    "                    angle_calib = 0\n",
    "                elif camera_side == 1:\n",
    "                    image_path = df.iloc[0]['left_camera'].strip()\n",
    "                    angle_calib = 0.25\n",
    "                elif camera_side == 2:\n",
    "                    image_path = df.iloc[0]['right_camera'].strip()\n",
    "                    angle_calib = -0.25\n",
    "\n",
    "                # Đọc ảnh tại form RGB\n",
    "                image = cv2.imread(image_path)\n",
    "                steering_angle = df.iloc[0]['steering_angle'] + angle_calib\n",
    "\n",
    "            # Tiền xử lý ảnh\n",
    "            image = image_preprocessing(image)\n",
    "\n",
    "            # Add ảnh và góc lái vào các list trên\n",
    "            images_batch.append(image)\n",
    "            steering_angles_batch.append(steering_angle)\n",
    "\n",
    "        yield (np.asarray(images_batch), np.asarray(steering_angles_batch))\n"
   ]
  },
  {
   "cell_type": "code",
   "execution_count": null,
   "metadata": {
    "colab": {
     "base_uri": "https://localhost:8080/"
    },
    "id": "M5CZK3THfLhR",
    "outputId": "bbc0ddc0-896d-4422-81b1-303d6eaad2cb"
   },
   "outputs": [
    {
     "name": "stdout",
     "output_type": "stream",
     "text": [
      "Total Images Imported:  4495\n"
     ]
    }
   ],
   "source": [
    "# Tải dữ liệu\n",
    "col_names = ['center_camera', 'left_camera', 'right_camera', 'steering_angle', 'throttle', 'brake', 'speed']\n",
    "df = pd.read_csv('/content/gdrive/MyDrive/Data/Self_driving_car/driving_log.csv', names = col_names)\n",
    "\n",
    "print('Total Images Imported: ', df.shape[0])"
   ]
  },
  {
   "cell_type": "code",
   "execution_count": null,
   "metadata": {
    "colab": {
     "base_uri": "https://localhost:8080/"
    },
    "id": "PtrGrcTqfLqw",
    "outputId": "9184b4f3-a915-4f59-885c-89951d0b51e6"
   },
   "outputs": [
    {
     "name": "stdout",
     "output_type": "stream",
     "text": [
      "Total Training Images:  3596\n",
      "Total Validation Images:  899 \n",
      "\n"
     ]
    }
   ],
   "source": [
    "# Chia dữ liệu thành tập train và tập val (80/20)\n",
    "train_df, val_df = train_test_split(df, test_size = 0.2)\n",
    "print('Total Training Images: ', len(train_df))\n",
    "print('Total Validation Images: ', len(val_df), '\\n')"
   ]
  },
  {
   "cell_type": "code",
   "execution_count": null,
   "metadata": {
    "id": "xsH6LAzjh_K6"
   },
   "outputs": [],
   "source": [
    "from keras.models import Sequential \n",
    "from keras.layers import Conv2D, Dropout, Dense, Flatten\n",
    "from tensorflow.keras.optimizers import Adam\n",
    "from tensorflow.keras.callbacks import EarlyStopping"
   ]
  },
  {
   "cell_type": "code",
   "execution_count": null,
   "metadata": {
    "id": "58j-oas1lS5Q"
   },
   "outputs": [],
   "source": [
    "early_stop = EarlyStopping(monitor='loss', patience=3, verbose=1)"
   ]
  },
  {
   "cell_type": "code",
   "execution_count": null,
   "metadata": {
    "colab": {
     "base_uri": "https://localhost:8080/"
    },
    "id": "FsqMY1kDfLte",
    "outputId": "180fb041-bcf3-4182-9adb-8aec3835cdbe"
   },
   "outputs": [
    {
     "name": "stdout",
     "output_type": "stream",
     "text": [
      "Model: \"sequential\"\n",
      "_________________________________________________________________\n",
      " Layer (type)                Output Shape              Param #   \n",
      "=================================================================\n",
      " conv2d (Conv2D)             (None, 31, 98, 24)        1824      \n",
      "                                                                 \n",
      " conv2d_1 (Conv2D)           (None, 14, 47, 36)        21636     \n",
      "                                                                 \n",
      " conv2d_2 (Conv2D)           (None, 5, 22, 48)         43248     \n",
      "                                                                 \n",
      " conv2d_3 (Conv2D)           (None, 3, 20, 64)         27712     \n",
      "                                                                 \n",
      " conv2d_4 (Conv2D)           (None, 1, 18, 64)         36928     \n",
      "                                                                 \n",
      " dropout (Dropout)           (None, 1, 18, 64)         0         \n",
      "                                                                 \n",
      " flatten (Flatten)           (None, 1152)              0         \n",
      "                                                                 \n",
      " dense (Dense)               (None, 100)               115300    \n",
      "                                                                 \n",
      " dropout_1 (Dropout)         (None, 100)               0         \n",
      "                                                                 \n",
      " dense_1 (Dense)             (None, 50)                5050      \n",
      "                                                                 \n",
      " dense_2 (Dense)             (None, 10)                510       \n",
      "                                                                 \n",
      " dense_3 (Dense)             (None, 1)                 11        \n",
      "                                                                 \n",
      "=================================================================\n",
      "Total params: 252,219\n",
      "Trainable params: 252,219\n",
      "Non-trainable params: 0\n",
      "_________________________________________________________________\n"
     ]
    }
   ],
   "source": [
    "# Xây dựng model\n",
    "model = Sequential()\n",
    "\n",
    "model.add(Conv2D(24, (5, 5), strides = (2, 2), input_shape = (66, 200, 3), activation = 'elu'))\n",
    "\n",
    "model.add(layers.Conv2D(36, (5, 5), strides = (2, 2), activation = 'elu'))\n",
    "\n",
    "model.add(layers.Conv2D(48, (5, 5), strides = (2, 2), activation = 'elu'))\n",
    "\n",
    "model.add(layers.Conv2D(64, (3, 3), strides = (1, 1), activation = 'elu'))\n",
    "\n",
    "model.add(layers.Conv2D(64, (3, 3), strides = (1, 1), activation = 'elu'))\n",
    "\n",
    "model.add(Dropout(0.5))\n",
    "\n",
    "model.add(Flatten())\n",
    "\n",
    "model.add(Dense(100, activation='elu'))\n",
    "\n",
    "model.add(Dropout(0.5))\n",
    "\n",
    "model.add(Dense(50, activation='elu'))\n",
    "\n",
    "model.add(Dense(10, activation='elu'))\n",
    "\n",
    "model.add(Dense(1))\n",
    "\n",
    "model.summary()"
   ]
  },
  {
   "cell_type": "code",
   "execution_count": null,
   "metadata": {
    "id": "FzeAVh-pfLwY"
   },
   "outputs": [],
   "source": [
    "# Thiết lập các thông số\n",
    "model.compile(loss='mean_squared_error', optimizer=Adam(learning_rate=0.0001))"
   ]
  },
  {
   "cell_type": "code",
   "execution_count": null,
   "metadata": {
    "colab": {
     "base_uri": "https://localhost:8080/"
    },
    "id": "qQlK_ofpetWM",
    "outputId": "f0d63a45-a9a1-4184-9b1b-1ab49214832e"
   },
   "outputs": [
    {
     "name": "stdout",
     "output_type": "stream",
     "text": [
      "Epoch 1/25\n",
      "1000/1000 [==============================] - 7123s 7s/step - loss: 0.0613 - val_loss: 0.0318\n",
      "Epoch 2/25\n",
      "1000/1000 [==============================] - 538s 539ms/step - loss: 0.0477 - val_loss: 0.0193\n",
      "Epoch 3/25\n",
      "1000/1000 [==============================] - 549s 550ms/step - loss: 0.0427 - val_loss: 0.0384\n",
      "Epoch 4/25\n",
      "1000/1000 [==============================] - 550s 551ms/step - loss: 0.0401 - val_loss: 0.0344\n",
      "Epoch 5/25\n",
      "1000/1000 [==============================] - 518s 518ms/step - loss: 0.0382 - val_loss: 0.0468\n",
      "Epoch 6/25\n",
      "1000/1000 [==============================] - 522s 523ms/step - loss: 0.0361 - val_loss: 0.1111\n",
      "Epoch 7/25\n",
      "1000/1000 [==============================] - 524s 525ms/step - loss: 0.0351 - val_loss: 0.1091\n",
      "Epoch 8/25\n",
      "1000/1000 [==============================] - 518s 518ms/step - loss: 0.0332 - val_loss: 0.0757\n",
      "Epoch 9/25\n",
      "1000/1000 [==============================] - 518s 519ms/step - loss: 0.0332 - val_loss: 0.0689\n",
      "Epoch 10/25\n",
      "1000/1000 [==============================] - 521s 522ms/step - loss: 0.0323 - val_loss: 0.0866\n",
      "Epoch 11/25\n",
      "1000/1000 [==============================] - 547s 548ms/step - loss: 0.0317 - val_loss: 0.0896\n",
      "Epoch 12/25\n",
      "1000/1000 [==============================] - 529s 529ms/step - loss: 0.0318 - val_loss: 0.0469\n",
      "Epoch 13/25\n",
      "1000/1000 [==============================] - 524s 524ms/step - loss: 0.0311 - val_loss: 0.0850\n",
      "Epoch 14/25\n",
      "1000/1000 [==============================] - 523s 524ms/step - loss: 0.0308 - val_loss: 0.0929\n",
      "Epoch 15/25\n",
      "1000/1000 [==============================] - 549s 549ms/step - loss: 0.0301 - val_loss: 0.0700\n",
      "Epoch 16/25\n",
      "1000/1000 [==============================] - 516s 516ms/step - loss: 0.0298 - val_loss: 0.0967\n",
      "Epoch 17/25\n",
      "1000/1000 [==============================] - 515s 516ms/step - loss: 0.0299 - val_loss: 0.0515\n",
      "Epoch 18/25\n",
      "1000/1000 [==============================] - 549s 550ms/step - loss: 0.0292 - val_loss: 0.0987\n",
      "Epoch 19/25\n",
      "1000/1000 [==============================] - 518s 519ms/step - loss: 0.0289 - val_loss: 0.0579\n",
      "Epoch 20/25\n",
      "1000/1000 [==============================] - 548s 549ms/step - loss: 0.0290 - val_loss: 0.0623\n",
      "Epoch 21/25\n",
      "1000/1000 [==============================] - 549s 549ms/step - loss: 0.0282 - val_loss: 0.0584\n",
      "Epoch 22/25\n",
      "1000/1000 [==============================] - 515s 516ms/step - loss: 0.0286 - val_loss: 0.0347\n",
      "Epoch 23/25\n",
      "1000/1000 [==============================] - 547s 548ms/step - loss: 0.0283 - val_loss: 0.0483\n",
      "Epoch 24/25\n",
      "1000/1000 [==============================] - 515s 515ms/step - loss: 0.0281 - val_loss: 0.0443\n",
      "Epoch 25/25\n",
      "1000/1000 [==============================] - 546s 547ms/step - loss: 0.0275 - val_loss: 0.0513\n"
     ]
    }
   ],
   "source": [
    "# Training Model\n",
    "h = model.fit(batch_generator(train_df, batch_size = 64, training_flag = 1),\n",
    "              steps_per_epoch = 1000, epochs = 25, \n",
    "              validation_data = batch_generator(val_df, batch_size = 64, training_flag = 0),\n",
    "              validation_steps = 1000, callbacks=[early_stop])"
   ]
  },
  {
   "cell_type": "code",
   "execution_count": null,
   "metadata": {
    "id": "Nss9dFSHmrrm"
   },
   "outputs": [],
   "source": [
    "model.save('/content/gdrive/MyDrive/Data/Self_driving_car/model.h5')"
   ]
  },
  {
   "cell_type": "code",
   "execution_count": null,
   "metadata": {
    "colab": {
     "base_uri": "https://localhost:8080/",
     "height": 430
    },
    "id": "_9HvzXRCetYT",
    "outputId": "d4a03efc-d405-49c8-d69c-36e8ded966f9"
   },
   "outputs": [
    {
     "data": {
      "image/png": "[encoded data removed]",
      "text/plain": [
       "<Figure size 640x480 with 1 Axes>"
      ]
     },
     "metadata": {},
     "output_type": "display_data"
    }
   ],
   "source": [
    "# Vẽ đồ thị tương quan giữa hàm loss và hàm val loss\n",
    "plt.plot(h.history['loss'], label='loss')\n",
    "plt.plot(h.history['val_loss'], label='val loss')\n",
    "plt.legend()\n",
    "plt.show()"
   ]
  }
 ],
 "metadata": {
  "accelerator": "GPU",
  "colab": {
   "gpuType": "T4",
   "provenance": []
  },
  "gpuClass": "standard",
  "kernelspec": {
   "display_name": "Python 3 (ipykernel)",
   "language": "python",
   "name": "python3"
  },
  "language_info": {
   "codemirror_mode": {
    "name": "ipython",
    "version": 3
   },
   "file_extension": ".py",
   "mimetype": "text/x-python",
   "name": "python",
   "nbconvert_exporter": "python",
   "pygments_lexer": "ipython3",
   "version": "3.10.9"
  }
 },
 "nbformat": 4,
 "nbformat_minor": 1
}
